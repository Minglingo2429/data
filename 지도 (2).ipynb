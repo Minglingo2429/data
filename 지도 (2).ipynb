{
 "cells": [
  {
   "cell_type": "raw",
   "metadata": {
    "colab": {
     "base_uri": "https://localhost:8080/",
     "height": 901
    },
    "id": "uJsc5IisrMGV",
    "outputId": "c89bc69e-e9e0-45f6-9b9b-69423ea15057"
   },
   "source": [
    "import folium\n",
    "from folium.plugins import MarkerCluster\n",
    "import pandas as pd\n",
    "\n",
    "# 데이터셋 로드\n",
    "# '소상공인시장진흥공단_전통시장_20241104.csv' 파일을 pandas 데이터프레임으로 읽어들인다.\n",
    "data = pd.read_csv('소상공인시장진흥공단_전통시장_20241104.csv', encoding='utf-8')\n",
    "\n",
    "# 시각화를 위한 데이터 준비\n",
    "# 데이터프레임에서 필요한 컬럼(시장명, 위도, 경도, 점포수)만 선택하고, 결측치가 있는 행은 제거한다.\n",
    "market_data = data[['시장명', '위도', '경도', '점포수']].dropna()\n",
    "# 점포수를 정수(int) 타입으로 변환한다.\n",
    "market_data['점포수'] = market_data['점포수'].astype(int)\n",
    "\n",
    "# 한국을 중심으로 하는 지도 생성\n",
    "# folium 라이브러리를 사용하여 대한민국 중심 좌표(위도: 36.5, 경도: 127.5)로 지도를 초기화한다.\n",
    "# 줌 레벨은 7로 설정하여 전국 지도를 한눈에 볼 수 있도록 한다.\n",
    "korea_map = folium.Map(location=[36.5, 127.5], zoom_start=7)\n",
    "\n",
    "# 중첩되는 마커를 처리하기 위해 MarkerCluster 객체 생성\n",
    "# MarkerCluster를 사용하여 겹쳐지는 마커들을 그룹화하여 보기 쉽게 표시한다.\n",
    "marker_cluster = MarkerCluster().add_to(korea_map)\n",
    "\n",
    "# 지도에 마커 추가\n",
    "# 데이터프레임의 각 행에 대해 반복하면서 마커를 지도에 추가한다.\n",
    "for _, row in market_data.iterrows():\n",
    "    # folium.CircleMarker로 원형 마커를 추가한다.\n",
    "    folium.CircleMarker(\n",
    "        location=[row['위도'], row['경도']],  # 마커의 위치를 위도와 경도로 설정\n",
    "        radius=row['점포수'] ** 0.5,  # 점포수의 제곱근을 반지름으로 설정하여 원의 크기를 조정\n",
    "        color='blue',  # 원의 외곽선 색상은 파란색\n",
    "        fill=True,  # 원을 채우도록 설정\n",
    "        fill_opacity=0.6,  # 원의 채움 투명도를 0.6으로 설정\n",
    "        popup=f\"{row['시장명']}<br>점포수: {row['점포수']}\",  # 팝업에 시장명과 점포수를 표시\n",
    "    ).add_to(marker_cluster)  # MarkerCluster에 마커를 추가\n",
    "\n",
    "# 지도 출력\n",
    "# 생성한 지도를 화면에 표시합니다.\n",
    "korea_map"
   ]
  },
  {
   "cell_type": "code",
   "execution_count": null,
   "metadata": {
    "id": "v8Ibx5azY7NH"
   },
   "outputs": [],
   "source": [
    "# 소재지도로명주소에서 맨 앞에 위치한 도, 시 데이터를 추출하는 함수 정의\n",
    "def extract_province_city(address):\n",
    "    if isinstance(address, str):  # 주소가 문자열인 경우만 처리\n",
    "        split_address = address.split()\n",
    "        if len(split_address) >= 2:\n",
    "            return split_address[0], split_address[1]  # 도, 시 반환\n",
    "    return None, None  # 결측치 또는 비정상 데이터는 None 반환\n",
    "\n",
    "# 데이터프레임에 새로운 컬럼 추가 (도, 시)\n",
    "data['행정구역'], data['시'] = zip(*data['소재지도로명주소'].map(extract_province_city))"
   ]
  },
  {
   "cell_type": "code",
   "execution_count": null,
   "metadata": {
    "id": "E_nziBnkvDdn"
   },
   "outputs": [],
   "source": [
    "region = pd.read_csv(\"행정구역_시군구_별_주민등록세대수_20241201130113.csv\",header=0,encoding=\"euc-kr\").drop(0)\n",
    "region.columns = [\"행정구역\",\"인구수\"]"
   ]
  },
  {
   "cell_type": "code",
   "execution_count": null,
   "metadata": {
    "colab": {
     "base_uri": "https://localhost:8080/",
     "height": 551
    },
    "id": "89Xjagcw0tGF",
    "outputId": "336ff560-9793-46f3-c547-94a50eabea20"
   },
   "outputs": [],
   "source": [
    "region"
   ]
  },
  {
   "cell_type": "code",
   "execution_count": null,
   "metadata": {
    "id": "dq-z5GsKXvSE"
   },
   "outputs": [],
   "source": [
    "data = data.merge(region,on=[\"행정구역\"], how=\"inner\")"
   ]
  },
  {
   "cell_type": "code",
   "execution_count": null,
   "metadata": {
    "colab": {
     "base_uri": "https://localhost:8080/",
     "height": 901
    },
    "id": "wUx3QvJoaymo",
    "outputId": "1fad3977-f5e0-43ae-a1f3-5547eb830487"
   },
   "outputs": [],
   "source": [
    "# 지역별 시장 개수 집계\n",
    "market_count_by_region = data.groupby('행정구역')['시장명'].count().reset_index()\n",
    "market_count_by_region.rename(columns={'시장명': '시장수'}, inplace=True)\n",
    "\n",
    "# 각 도의 중심 위치(위도와 경도)를 설정하기 위한 참조 데이터 생성\n",
    "region_coordinates = {\n",
    "    \"서울특별시\": [37.5665, 126.9780],\n",
    "    \"부산광역시\": [35.1796, 129.0756],\n",
    "    \"대구광역시\": [35.8714, 128.6014],\n",
    "    \"인천광역시\": [37.4563, 126.7052],\n",
    "    \"광주광역시\": [35.1595, 126.8526],\n",
    "    \"대전광역시\": [36.3504, 127.3845],\n",
    "    \"울산광역시\": [35.5384, 129.3114],\n",
    "    \"세종특별자치시\": [36.4800, 127.2890],\n",
    "    \"경기도\": [37.4138, 127.5183],\n",
    "    \"강원도\": [37.8228, 128.1555],\n",
    "    \"충청북도\": [36.6353, 127.4914],\n",
    "    \"충청남도\": [36.5184, 126.8000],\n",
    "    \"전라북도\": [35.7175, 127.1530],\n",
    "    \"전남특별자치도\": [34.8679, 126.9910],\n",
    "    \"경상북도\": [36.4919, 128.8889],\n",
    "    \"경상남도\": [35.4606, 128.2132],\n",
    "    \"제주특별자치도\": [33.4996, 126.5312]\n",
    "}\n",
    "\n",
    "# 도별 시장수 데이터에 위도와 경도를 추가\n",
    "market_count_by_region['위도'] = market_count_by_region['행정구역'].map(lambda x: region_coordinates.get(x, [0, 0])[0])\n",
    "market_count_by_region['경도'] = market_count_by_region['행정구역'].map(lambda x: region_coordinates.get(x, [0, 0])[1])\n",
    "\n",
    "# 2023년 인구수 데이터\n",
    "# 각 도의 인구수 데이터 (참조 데이터)\n",
    "population_data = {\n",
    "    \"서울특별시\": 9384512,\n",
    "    \"부산광역시\": 3279604,\n",
    "    \"대구광역시\": 2379188,\n",
    "    \"인천광역시\": 3025950,\n",
    "    \"광주광역시\": 1457090,\n",
    "    \"대전광역시\": 1470336,\n",
    "    \"울산광역시\": 1107432,\n",
    "    \"세종특별자치시\": 386261,\n",
    "    \"경기도\": 13815367,\n",
    "    \"강원도\": 1528014,\n",
    "    \"충청북도\": 1641481,\n",
    "    \"충청남도\": 2216332,\n",
    "    \"전라북도\": 1768491,\n",
    "    \"전남특별자치도\": 1776668,\n",
    "    \"경상북도\": 2589880,\n",
    "    \"경상남도\": 3271148,\n",
    "    \"제주특별자치도\": 676767\n",
    "}\n",
    "\n",
    "# 인구수 데이터를 추가\n",
    "market_count_by_region['인구수'] = market_count_by_region['행정구역'].map(population_data)\n",
    "\n",
    "# 인구 10만 명당 시장 수 계산\n",
    "market_count_by_region['인구 10만 명당 시장수'] = (market_count_by_region['시장수'] / market_count_by_region['인구수']) * 100000\n",
    "\n",
    "# 지도 시각화 (인구 대비 시장수 기준)\n",
    "korea_map = folium.Map(location=[36.5, 127.5], zoom_start=7)\n",
    "\n",
    "\n",
    "# 지역별 시장 밀도를 원의 크기로 표시\n",
    "for idx, row in market_count_by_region.iterrows():\n",
    "    folium.CircleMarker(\n",
    "        location=[row['위도'], row['경도']],\n",
    "        radius=row['인구 10만 명당 시장수'] * 8,  # 비율을 크기에 반영 (스케일링)\n",
    "        fill=True,\n",
    "        fill_opacity=0.6,\n",
    "        popup=(\n",
    "            f\"{row['행정구역']}<br>\"\n",
    "            f\"시장수: {row['시장수']}<br>\"\n",
    "            f\"인구수: {row['인구수']:,}<br>\"\n",
    "            f\"인구 10만 명당 시장수: {row['인구 10만 명당 시장수']:.2f}\"\n",
    "        ),\n",
    "    ).add_to(korea_map)\n",
    "\n",
    "# 지도 출력\n",
    "korea_map"
   ]
  },
  {
   "cell_type": "code",
   "execution_count": null,
   "metadata": {
    "id": "AuBaat1BcHxE"
   },
   "outputs": [],
   "source": [
    "import pandas as pd\n",
    "\n",
    "# Given data\n",
    "data = {\n",
    "    \"Year\": [2021, 2022],\n",
    "    \"Population\": [51738071, 51692272],\n",
    "    \"Average_Daily_Customers\": [4672, 4536],\n",
    "    \"Market_Daily_Sales\": [57460000, 57700000],  # Converted to KRW\n",
    "    \"Food_Beverage_Sales\": [24554892000, 26334349000]  # Already in KRW\n",
    "}\n",
    "\n",
    "# Convert to DataFrame\n",
    "df = pd.DataFrame(data)\n",
    "\n",
    "# Calculate annualized sales (assuming 5 days per week and 52 weeks per year)\n",
    "df[\"Market_Annual_Sales\"] = df[\"Market_Daily_Sales\"] * 5 * 52\n",
    "df[\"Food_Beverage_Annual_Sales\"] = df[\"Food_Beverage_Sales\"]\n",
    "\n",
    "\n",
    "import matplotlib.pyplot as plt\n",
    "\n",
    "# Data for the chart\n",
    "years = df[\"Year\"]\n",
    "population = df[\"Population\"]\n",
    "avg_customers = df[\"Average_Daily_Customers\"]\n",
    "market_sales = df[\"Market_Annual_Sales\"]\n",
    "food_beverage_sales = df[\"Food_Beverage_Annual_Sales\"]"
   ]
  },
  {
   "cell_type": "code",
   "execution_count": null,
   "metadata": {
    "colab": {
     "base_uri": "https://localhost:8080/",
     "height": 1000
    },
    "id": "U1TUt3HVBS0S",
    "outputId": "cf0433a3-ec89-48ce-ccc7-fc3330e3a4bf"
   },
   "outputs": [],
   "source": [
    "# Create separate bar charts for each metric\n",
    "metrics = {\n",
    "    \"Population\": population,\n",
    "    \"Avg Daily Customers\": avg_customers,\n",
    "    \"Market Annual Sales\": market_sales,\n",
    "    \"Food/Beverage Sales\": food_beverage_sales,\n",
    "}\n",
    "\n",
    "# Correcting the logic to ensure the comparison is properly structured with one metric and two bars for 2021 vs 2022\n",
    "for metric, values in metrics.items():\n",
    "    plt.figure(figsize=(8, 5))\n",
    "\n",
    "    x = [\"2021\", \"2022\"]  # Years as categories\n",
    "    bar_width = 0.4  # Slim bar width\n",
    "\n",
    "    # Plotting bars for 2021 and 2022\n",
    "    plt.bar(x, values, width=bar_width, color=[\"blue\", \"orange\"], alpha=0.7, label=[\"2021\", \"2022\"])\n",
    "\n",
    "    # Adding line for comparison\n",
    "    plt.plot(x, values, color=\"black\", linestyle=\"--\", marker=\"o\", label=\"Trend Line\")\n",
    "\n",
    "    # Title and labels\n",
    "    plt.title(f\"{metric}: 2021 vs 2022\", fontsize=14, fontweight=\"bold\")\n",
    "    plt.ylabel(\"Values (KRW or Count)\", fontsize=12)\n",
    "    plt.xlabel(\"Year\", fontsize=12)\n",
    "    plt.xticks(fontsize=12)\n",
    "    plt.yticks(fontsize=10)\n",
    "\n",
    "    plt.tight_layout()\n",
    "    plt.show()"
   ]
  },
  {
   "cell_type": "code",
   "execution_count": null,
   "metadata": {
    "id": "AVeeUH2xCPqu"
   },
   "outputs": [],
   "source": []
  }
 ],
 "metadata": {
  "colab": {
   "provenance": []
  },
  "kernelspec": {
   "display_name": "Python 3 (ipykernel)",
   "language": "python",
   "name": "python3"
  },
  "language_info": {
   "codemirror_mode": {
    "name": "ipython",
    "version": 3
   },
   "file_extension": ".py",
   "mimetype": "text/x-python",
   "name": "python",
   "nbconvert_exporter": "python",
   "pygments_lexer": "ipython3",
   "version": "3.12.7"
  }
 },
 "nbformat": 4,
 "nbformat_minor": 4
}
